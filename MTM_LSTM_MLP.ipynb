{
  "nbformat": 4,
  "nbformat_minor": 0,
  "metadata": {
    "colab": {
      "name": "MTM LSTM -MLP.ipynb",
      "provenance": []
    },
    "kernelspec": {
      "name": "python3",
      "display_name": "Python 3"
    },
    "language_info": {
      "name": "python"
    }
  },
  "cells": [
    {
      "cell_type": "code",
      "execution_count": null,
      "metadata": {
        "id": "ZjVn9iGITW0_"
      },
      "outputs": [],
      "source": [
        "from google.colab import drive\n",
        "\n",
        "drive.mount('/content/drive')\n",
        "\n",
        "!ls 'drive/My Drive'\n",
        "import csv\n",
        "import pandas as pd\n",
        "import xlrd "
      ]
    },
    {
      "cell_type": "code",
      "source": [
        "loc = (\"/content/drive/MyDrive/mashad.xlsx\") \n",
        "  \n",
        "wb = xlrd.open_workbook(loc)  \n",
        "sheet = wb.sheet_by_index(0)\n",
        "SolarEnergy = []\n",
        "for i in range(sheet.nrows):\n",
        "  Energy=sheet.cell_value(i, 11)\n",
        "  SolarEnergy.append((Energy))"
      ],
      "metadata": {
        "id": "ChOe12l8T2NT"
      },
      "execution_count": null,
      "outputs": []
    },
    {
      "cell_type": "code",
      "source": [
        "#Draw the shape of the data\n",
        "import matplotlib.pyplot as plt\n",
        "plt.plot(SolarEnergy)\n",
        "plt.xlabel('Time (Day)')\n",
        "plt.ylabel('Radiation (MJ.m-2)')\n",
        "plt.show()"
      ],
      "metadata": {
        "id": "CXohS3Q_UIi-"
      },
      "execution_count": null,
      "outputs": []
    },
    {
      "cell_type": "code",
      "source": [
        "from numpy import array\n",
        "import numpy as np\n",
        "# split a univariate sequence into samples\n",
        "def split_sequence(sequence, n_steps):\n",
        "\tX, y = list(), list()\n",
        "\tfor i in range(len(sequence)):\n",
        "\t\t# find the end of this pattern\n",
        "\t\tend_ix = i + n_steps\n",
        "\t\t# check if we are beyond the sequence\n",
        "\t\tif end_ix > len(sequence)-1:\n",
        "\t\t\tbreak\n",
        "\t\t# gather input and output parts of the pattern\n",
        "\t\tseq_x, seq_y = sequence[i:end_ix], sequence[end_ix]\n",
        "\t\tX.append(seq_x)\n",
        "\t\ty.append(seq_y)\n",
        "    \n",
        "\treturn array(X), array(y),y\n",
        " \n",
        "# define input sequence\n",
        "raw_seq = SolarEnergy[0:1400]\n",
        "# choose a number of time steps\n",
        "n_steps = 10\n",
        "# split into samples\n",
        "X, y ,T= split_sequence(raw_seq, n_steps)\n",
        "raw_seq_test = SolarEnergy[1400:]\n",
        "# split into samples\n",
        "X_test, y_test ,T_test= split_sequence(raw_seq_test, n_steps)\n",
        "#Repeat targets \n",
        "Target2=[]\n",
        "for K in range(len(T)):\n",
        "  TargetK=[T[K],T[K],T[K],T[K],T[K],T[K],T[K],T[K],T[K],T[K]]\n",
        "  Target2.append(TargetK) \n",
        "ATargt2=array(Target2) "
      ],
      "metadata": {
        "id": "wvftw6t4V1Nl"
      },
      "execution_count": null,
      "outputs": []
    },
    {
      "cell_type": "code",
      "source": [
        "#Create model MTM LSTM \n",
        "from keras.models import Sequential\n",
        "from keras.layers import LSTM\n",
        "from keras.layers import Dropout\n",
        "from keras.layers import Dense\n",
        "from keras.layers import Activation\n",
        "from keras.layers import TimeDistributed\n",
        "from keras.layers import SimpleRNN\n",
        "from keras.layers import RepeatVector\n",
        "\n",
        "n_features = 1\n",
        "X = X.reshape((X.shape[0], X.shape[1], n_features))\n",
        "model = Sequential()\n",
        "model.add(LSTM(50, activation='relu', input_shape=(n_steps, n_features),return_sequences=True))\n",
        "model.add(Dropout(0.2))\n",
        "model.add(LSTM(50,activation='relu', return_sequences=True))\n",
        "model.add(Dropout(0.2))\n",
        "model.add(LSTM(50,activation='relu', return_sequences=True))\n",
        "model.add(Dropout(0.2))\n",
        "model.add(Dense(1))\n",
        "model.compile(optimizer='adam', loss='mse')\n",
        "networkHis=model.fit(X, ATargt2, epochs=200, verbose=0,validation_split=0.1)"
      ],
      "metadata": {
        "id": "IQqq1iVlWOeD"
      },
      "execution_count": null,
      "outputs": []
    },
    {
      "cell_type": "code",
      "source": [
        "history =  networkHis.history\n",
        "import matplotlib.pyplot as plt\n",
        "lossess = history['loss']\n",
        "val_lossess = history['val_loss']"
      ],
      "metadata": {
        "id": "_E_tFF75XPMm"
      },
      "execution_count": null,
      "outputs": []
    },
    {
      "cell_type": "code",
      "source": [
        "#Draw an error diagram \n",
        "plt.xlabel('Epochs')\n",
        "plt.ylabel('Loss')\n",
        "plt.plot(lossess)\n",
        "plt.plot(val_lossess)\n",
        "plt.legend(['Loss','val_Loss'])"
      ],
      "metadata": {
        "id": "nGs08nJ_ZFaX"
      },
      "execution_count": null,
      "outputs": []
    },
    {
      "cell_type": "code",
      "source": [
        "#Summary of created model specifications\n",
        "model.summary()"
      ],
      "metadata": {
        "id": "8H1iPuRFZKwV"
      },
      "execution_count": null,
      "outputs": []
    },
    {
      "cell_type": "code",
      "source": [
        "#Model prediction for training data \n",
        "petrain=model.predict(X)"
      ],
      "metadata": {
        "id": "UaEtpN8aZjKy"
      },
      "execution_count": null,
      "outputs": []
    },
    {
      "cell_type": "code",
      "source": [
        "#Model prediction for test data \n",
        "petest=model.predict(X_test)"
      ],
      "metadata": {
        "id": "XhwoGCcybWda"
      },
      "execution_count": null,
      "outputs": []
    },
    {
      "cell_type": "code",
      "source": [
        "#Create model MTM LSTM \n",
        "from sklearn.preprocessing import StandardScaler\n",
        "scaler = StandardScaler()\n",
        "feature_vector_length =10\n",
        "X_train = petrain.reshape(petrain.shape[0], feature_vector_length)\n",
        "X_test = petest.reshape(petest.shape[0], feature_vector_length)\n",
        "x_train = scaler.fit_transform(X_train)\n",
        "x_test = scaler.transform(X_test )\n",
        "y = y.reshape(y.shape[0], 1)\n",
        "y_test = y_test.reshape(y_test.shape[0], 1)\n",
        "y_train = scaler.fit_transform(y)\n",
        "y_test = scaler.transform(y_test)\n",
        "input_shape = (feature_vector_length,)\n",
        "model2 = Sequential()\n",
        "model2.add(Dense(20, input_shape=input_shape, activation='relu'))\n",
        "model2.add(Dropout(0.2))\n",
        "model2.add(Dense(30, activation='relu'))\n",
        "model2.add(Dropout(0.2))\n",
        "model2.add(Dense(30, activation='relu'))\n",
        "model2.add(Dropout(0.2))\n",
        "model2.add(Dense(1))"
      ],
      "metadata": {
        "id": "-FspDk5QbsbC"
      },
      "execution_count": null,
      "outputs": []
    },
    {
      "cell_type": "code",
      "source": [
        "from tensorflow import keras\n",
        "import tensorflow as tf\n",
        "opt =tf.keras.optimizers.RMSprop()\n",
        "model2.compile(loss=\"mean_squared_error\", optimizer=opt)"
      ],
      "metadata": {
        "id": "p9FMOKdGcFt7"
      },
      "execution_count": null,
      "outputs": []
    },
    {
      "cell_type": "code",
      "source": [
        "net_history = model2.fit(x_train, y_train, epochs=200,validation_split=0.1)"
      ],
      "metadata": {
        "id": "HRdPk8_vcJjY"
      },
      "execution_count": null,
      "outputs": []
    },
    {
      "cell_type": "code",
      "source": [
        "#Summary of created model specifications\n",
        "model2.summary()"
      ],
      "metadata": {
        "id": "wZE56D5AccD-"
      },
      "execution_count": null,
      "outputs": []
    },
    {
      "cell_type": "code",
      "source": [
        "#Model evaluation\n",
        "from sklearn.metrics import mean_absolute_error\n",
        "ptredict=model2.predict(x_test)\n",
        "se_test = model2.evaluate(x_test, y_test)\n",
        "mean_absolute_error(y_test,ptredict)"
      ],
      "metadata": {
        "id": "pE6Iu0hRcTRA"
      },
      "execution_count": null,
      "outputs": []
    },
    {
      "cell_type": "code",
      "source": [
        "#Draw an error diagram \n",
        "nethistory = net_history.history\n",
        "import matplotlib.pyplot as plt\n",
        "lossess2 = nethistory['loss']\n",
        "val_lossess2 = nethistory['val_loss']\n",
        "plt.xlabel('Epochs')\n",
        "plt.ylabel('Loss')\n",
        "plt.plot(lossess2)\n",
        "plt.plot(val_lossess2)\n",
        "plt.legend(['Loss','val_Loss'])"
      ],
      "metadata": {
        "id": "tyIHWOEHc6iz"
      },
      "execution_count": null,
      "outputs": []
    }
  ]
}